{
  "nbformat": 4,
  "nbformat_minor": 0,
  "metadata": {
    "colab": {
      "provenance": []
    },
    "kernelspec": {
      "name": "python3",
      "display_name": "Python 3"
    },
    "language_info": {
      "name": "python"
    }
  },
  "cells": [
    {
      "cell_type": "markdown",
      "source": [
        "# Reflection - Activity Two\n",
        "Activity two introduced more process steps and code types. It was quite fun to mess around with the code to garner different results, ultimately landing on the most correct for the situation. I definitely relied on Melanie Walsh's python basics github to get the bases for the codes. I did have to do a few (not many) trial and errors for the \"for loop\" portion, forgetting that \"==\" is not the same as \"=\", one for setting variables and the other used for comparison. I had trouble identifying the appropriate usage of functions, specifically the parameters and arguments for the \"hello\" portion, of which I am still unsure of whether or not I did correctly. I did not step into the side quest portion, but I may do so out of curiosity in the near future."
      ],
      "metadata": {
        "id": "wz402TTAbm61"
      }
    }
  ]
}